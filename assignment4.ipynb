{
 "cells": [
  {
   "cell_type": "markdown",
   "id": "df0d234f-1e1a-4495-8208-e177e7f527aa",
   "metadata": {},
   "source": [
    "Complete the exercises below For **Assignment #4**.\n",
    "\n",
    "Use **Markdown** cells for the non-code answers."
   ]
  },
  {
   "cell_type": "markdown",
   "id": "67f720a0-2ead-44f5-bc11-8cbefda7b7d4",
   "metadata": {},
   "source": [
    "In this assignment we will work with the data underlying the *FiveThirtyEight* article [\"Higher Rates Of Hate Crimes Are Tied To Income Inequality\"](https://fivethirtyeight.com/features/higher-rates-of-hate-crimes-are-tied-to-income-inequality/)."
   ]
  },
  {
   "cell_type": "markdown",
   "id": "da3788bf-60c0-4b04-a09e-29bb08002d83",
   "metadata": {},
   "source": [
    "Load the `tidymodels`, `readr`, and `moderndive` packages in the cell below."
   ]
  },
  {
   "cell_type": "code",
   "execution_count": 4,
   "id": "c363d814-19a6-4173-899e-c54ada1860d2",
   "metadata": {
    "vscode": {
     "languageId": "r"
    }
   },
   "outputs": [],
   "source": [
    "\n",
    "library('tidymodels')\n",
    "library('readr')\n",
    "library('moderndive')\n"
   ]
  },
  {
   "cell_type": "markdown",
   "id": "c4064cbe-78bd-4549-8543-fd91ed775e6e",
   "metadata": {},
   "source": [
    "We can read the data from a **CSV file** at the following URL: [http://bit.ly/2ItxYg3](http://bit.ly/2ItxYg3).\n",
    "\n",
    "Use the `read_csv` function to read the data into our R session. Call the new table `hate_crimes`."
   ]
  },
  {
   "cell_type": "code",
   "execution_count": 5,
   "id": "94ce1201-dd72-4109-9a64-333b7286aac7",
   "metadata": {
    "vscode": {
     "languageId": "r"
    }
   },
   "outputs": [
    {
     "name": "stderr",
     "output_type": "stream",
     "text": [
      "\u001b[1mRows: \u001b[22m\u001b[34m51\u001b[39m \u001b[1mColumns: \u001b[22m\u001b[34m9\u001b[39m\n",
      "\u001b[36m──\u001b[39m \u001b[1mColumn specification\u001b[22m \u001b[36m────────────────────────────────────────────────────────\u001b[39m\n",
      "\u001b[1mDelimiter:\u001b[22m \",\"\n",
      "\u001b[31mchr\u001b[39m (5): state, median_house_inc, trump_support, unemployment, urbanization\n",
      "\u001b[32mdbl\u001b[39m (4): share_pop_metro, hs, hate_crimes, income\n",
      "\n",
      "\u001b[36mℹ\u001b[39m Use `spec()` to retrieve the full column specification for this data.\n",
      "\u001b[36mℹ\u001b[39m Specify the column types or set `show_col_types = FALSE` to quiet this message.\n"
     ]
    },
    {
     "data": {
      "text/html": [
       "<table class=\"dataframe\">\n",
       "<caption>A tibble: 6 × 9</caption>\n",
       "<thead>\n",
       "\t<tr><th scope=col>state</th><th scope=col>median_house_inc</th><th scope=col>share_pop_metro</th><th scope=col>hs</th><th scope=col>hate_crimes</th><th scope=col>trump_support</th><th scope=col>unemployment</th><th scope=col>urbanization</th><th scope=col>income</th></tr>\n",
       "\t<tr><th scope=col>&lt;chr&gt;</th><th scope=col>&lt;chr&gt;</th><th scope=col>&lt;dbl&gt;</th><th scope=col>&lt;dbl&gt;</th><th scope=col>&lt;dbl&gt;</th><th scope=col>&lt;chr&gt;</th><th scope=col>&lt;chr&gt;</th><th scope=col>&lt;chr&gt;</th><th scope=col>&lt;dbl&gt;</th></tr>\n",
       "</thead>\n",
       "<tbody>\n",
       "\t<tr><td>New Mexico  </td><td>low </td><td>0.69</td><td>83</td><td>0.295</td><td>low</td><td>high</td><td>low </td><td>46686</td></tr>\n",
       "\t<tr><td>Maine       </td><td>low </td><td>0.54</td><td>90</td><td>0.616</td><td>low</td><td>low </td><td>low </td><td>51710</td></tr>\n",
       "\t<tr><td>New York    </td><td>low </td><td>0.94</td><td>85</td><td>0.351</td><td>low</td><td>low </td><td>high</td><td>54310</td></tr>\n",
       "\t<tr><td>Illinois    </td><td>low </td><td>0.90</td><td>86</td><td>0.195</td><td>low</td><td>high</td><td>high</td><td>54916</td></tr>\n",
       "\t<tr><td>Delaware    </td><td>high</td><td>0.90</td><td>87</td><td>0.323</td><td>low</td><td>low </td><td>high</td><td>57522</td></tr>\n",
       "\t<tr><td>Rhode Island</td><td>high</td><td>1.00</td><td>85</td><td>0.095</td><td>low</td><td>high</td><td>high</td><td>58633</td></tr>\n",
       "</tbody>\n",
       "</table>\n"
      ],
      "text/latex": [
       "A tibble: 6 × 9\n",
       "\\begin{tabular}{lllllllll}\n",
       " state & median\\_house\\_inc & share\\_pop\\_metro & hs & hate\\_crimes & trump\\_support & unemployment & urbanization & income\\\\\n",
       " <chr> & <chr> & <dbl> & <dbl> & <dbl> & <chr> & <chr> & <chr> & <dbl>\\\\\n",
       "\\hline\n",
       "\t New Mexico   & low  & 0.69 & 83 & 0.295 & low & high & low  & 46686\\\\\n",
       "\t Maine        & low  & 0.54 & 90 & 0.616 & low & low  & low  & 51710\\\\\n",
       "\t New York     & low  & 0.94 & 85 & 0.351 & low & low  & high & 54310\\\\\n",
       "\t Illinois     & low  & 0.90 & 86 & 0.195 & low & high & high & 54916\\\\\n",
       "\t Delaware     & high & 0.90 & 87 & 0.323 & low & low  & high & 57522\\\\\n",
       "\t Rhode Island & high & 1.00 & 85 & 0.095 & low & high & high & 58633\\\\\n",
       "\\end{tabular}\n"
      ],
      "text/markdown": [
       "\n",
       "A tibble: 6 × 9\n",
       "\n",
       "| state &lt;chr&gt; | median_house_inc &lt;chr&gt; | share_pop_metro &lt;dbl&gt; | hs &lt;dbl&gt; | hate_crimes &lt;dbl&gt; | trump_support &lt;chr&gt; | unemployment &lt;chr&gt; | urbanization &lt;chr&gt; | income &lt;dbl&gt; |\n",
       "|---|---|---|---|---|---|---|---|---|\n",
       "| New Mexico   | low  | 0.69 | 83 | 0.295 | low | high | low  | 46686 |\n",
       "| Maine        | low  | 0.54 | 90 | 0.616 | low | low  | low  | 51710 |\n",
       "| New York     | low  | 0.94 | 85 | 0.351 | low | low  | high | 54310 |\n",
       "| Illinois     | low  | 0.90 | 86 | 0.195 | low | high | high | 54916 |\n",
       "| Delaware     | high | 0.90 | 87 | 0.323 | low | low  | high | 57522 |\n",
       "| Rhode Island | high | 1.00 | 85 | 0.095 | low | high | high | 58633 |\n",
       "\n"
      ],
      "text/plain": [
       "  state        median_house_inc share_pop_metro hs hate_crimes trump_support\n",
       "1 New Mexico   low              0.69            83 0.295       low          \n",
       "2 Maine        low              0.54            90 0.616       low          \n",
       "3 New York     low              0.94            85 0.351       low          \n",
       "4 Illinois     low              0.90            86 0.195       low          \n",
       "5 Delaware     high             0.90            87 0.323       low          \n",
       "6 Rhode Island high             1.00            85 0.095       low          \n",
       "  unemployment urbanization income\n",
       "1 high         low          46686 \n",
       "2 low          low          51710 \n",
       "3 low          high         54310 \n",
       "4 high         high         54916 \n",
       "5 low          high         57522 \n",
       "6 high         high         58633 "
      ]
     },
     "metadata": {},
     "output_type": "display_data"
    }
   ],
   "source": [
    "\n",
    "hate_crimes = read_csv(\"http://bit.ly/2ItxYg3\")\n",
    "hate_crimes |> head()\n"
   ]
  },
  {
   "cell_type": "code",
   "execution_count": 9,
   "id": "09c30d86",
   "metadata": {
    "vscode": {
     "languageId": "r"
    }
   },
   "outputs": [
    {
     "name": "stderr",
     "output_type": "stream",
     "text": [
      "starting httpd help server ...\n",
      " done\n",
      "\n"
     ]
    }
   ],
   "source": [
    "??hate_crimes"
   ]
  },
  {
   "cell_type": "markdown",
   "id": "f4806491-e256-4823-aa63-612157c25966",
   "metadata": {},
   "source": [
    "Next, let’s add the high-school degree variable into the mix by creating a scatterplot showing:\n",
    "\n",
    "- Income on the y-axis (this is the `income` variable)\n",
    "- Percent of adults 25 or older with a high school degree on the x-axis (this is the `hs` variable)\n",
    "- The points colored by level of urbanization in a region (this is the variable `urbanization`)\n",
    "\n",
    "\n",
    "**In addition, add a line of best fit (regression line) for each level of the variable urbanization (one for “low”, one for “high”).**\n",
    "\n",
    "*Add the regression lines to the plot using the `geom_parallel_slopes` function from the `moderndive` package. This function will draw the regression lines based on fitting a regression model with parallel slopes (i.e., with no interaction between `hs` and `urbanization`).*"
   ]
  },
  {
   "cell_type": "code",
   "execution_count": null,
   "id": "0df52489-dc41-4d74-ba64-a93f1d5c7ae1",
   "metadata": {
    "vscode": {
     "languageId": "r"
    }
   },
   "outputs": [
    {
     "name": "stderr",
     "output_type": "stream",
     "text": [
      "Warning message:\n",
      "\"\u001b[1m\u001b[22mRemoved 3 rows containing non-finite outside the scale range\n",
      "(`stat_parallel_slopes()`).\"\n"
     ]
    },
    {
     "data": {
      "image/png": "[encoded data removed]",
      "text/plain": [
       "plot without title"
      ]
     },
     "metadata": {
      "image/png": {
       "height": 500,
       "width": 625
      }
     },
     "output_type": "display_data"
    }
   ],
   "source": [
    "ggplot(data = hate_crimes, mapping = aes(x = hs, y = income, color = urbanization)) +\n",
    "    geom_point(na.rm = T) +\n",
    "    geom_parallel_slopes()\n",
    "\n"
   ]
  },
  {
   "cell_type": "markdown",
   "id": "6e532f1d-fa73-402b-96e0-f104a4c02791",
   "metadata": {},
   "source": [
    "❓Which regression line (high urbanization or low urbanization) appears to have the larger intercept?\n",
    "\n",
    "**Answer:**"
   ]
  },
  {
   "cell_type": "code",
   "execution_count": null,
   "id": "61301467-8beb-4ae7-9019-7965ba70ff24",
   "metadata": {
    "vscode": {
     "languageId": "r"
    }
   },
   "outputs": [],
   "source": [
    "\n",
    "# High urbanization had a larger intercept. It's intercept was around 4500 while, low urbanization was around 4750.\n"
   ]
  },
  {
   "cell_type": "markdown",
   "id": "e8c51941-740b-4bba-975f-12083a90dda0",
   "metadata": {},
   "source": [
    "Now let’s create a second scatterplot using the same variables, but this time draw the regression lines using `geom_smooth(method = \"lm\")`, which will allow for separate, non-parallel slopes for each urbanization group. \n",
    "\n",
    "**Code your scatter plot in the cell below.**"
   ]
  },
  {
   "cell_type": "code",
   "execution_count": 17,
   "id": "fbdf3299-5151-4963-addb-6089506a9b1d",
   "metadata": {
    "vscode": {
     "languageId": "r"
    }
   },
   "outputs": [
    {
     "name": "stderr",
     "output_type": "stream",
     "text": [
      "\u001b[1m\u001b[22m`geom_smooth()` using formula = 'y ~ x'\n",
      "Warning message:\n",
      "\"\u001b[1m\u001b[22mRemoved 3 rows containing non-finite outside the scale range (`stat_smooth()`).\"\n"
     ]
    },
    {
     "data": {
      "image/png": "[encoded data removed]",
      "text/plain": [
       "plot without title"
      ]
     },
     "metadata": {
      "image/png": {
       "height": 500,
       "width": 625
      }
     },
     "output_type": "display_data"
    }
   ],
   "source": [
    "ggplot(data = hate_crimes, mapping = aes(x = hs, y = income, color = urbanization)) +\n",
    "    geom_point(na.rm = TRUE) +\n",
    "    geom_smooth(method = \"lm\")\n"
   ]
  },
  {
   "cell_type": "markdown",
   "id": "1a8b4ef0-c250-4f50-8354-75075608b95c",
   "metadata": {},
   "source": [
    "❓Based on visually comparing the two models shown above, do you think it would be best to run a “parallel slopes” model (i.e. a model that estimates one shared slope for the two levels of urbanization), or a more complex “interaction model” (i.e. a model that estimates a separate slope for the two levels of urbanization)?\n",
    "\n",
    "**Answer:**"
   ]
  },
  {
   "cell_type": "code",
   "execution_count": null,
   "id": "39f4b05e-c7cc-4486-916c-1ddda83e34ac",
   "metadata": {
    "vscode": {
     "languageId": "r"
    }
   },
   "outputs": [],
   "source": [
    "# Between the two models it appears that there is a slight difference between slopes and intercepts in the regression lines of the interaction model.\n",
    "# However, since you are comparing two predictor variables here, I think it's best to keep the separate slopes, to preserve the effect urbanization has\n",
    "# on the regression line.\n",
    "\n"
   ]
  },
  {
   "cell_type": "markdown",
   "id": "58b774c5-d4d1-4473-be77-4a1271fa4ca2",
   "metadata": {},
   "source": [
    "Fit the following two regression models that examine the relationship between household `income` (as response variable), and high-school education (`hs`) and `urbanization` as explanatory variables:\n",
    "\n",
    "1. A parallel slopes model (i.e., no interaction between `hs` and `urbanization`). ❗️Save the data recipe and model under the variables `ps_rec` and `ps_mod`, respectively. \n",
    "1. A non-parallel slopes model (i.e., allow `hs` and `urbanization` to interact in your model). ❗️Save the data recipe and model under the variable: `nps_rec` and `nps_mod`, respectively.\n",
    "\n",
    "**Code you your models in the cell below.**"
   ]
  },
  {
   "cell_type": "code",
   "execution_count": 18,
   "id": "30523b47-a9af-4462-9c47-8bab30e76cc6",
   "metadata": {
    "vscode": {
     "languageId": "r"
    }
   },
   "outputs": [
    {
     "data": {
      "text/plain": [
       "parsnip model object\n",
       "\n",
       "\n",
       "Call:\n",
       "stats::lm(formula = income ~ ., data = data)\n",
       "\n",
       "Coefficients:\n",
       "     (Intercept)                hs  urbanization_low  \n",
       "         -113725              1987             -7333  \n"
      ]
     },
     "metadata": {},
     "output_type": "display_data"
    }
   ],
   "source": [
    "# parallel slopes model\n",
    "\n",
    "ps_rec = recipe(income ~ hs + urbanization, data = hate_crimes) |> \n",
    "    step_naomit(everything()) |>   # remove missing values\n",
    "    step_dummy(urbanization) |>    # dummy encode the urbanization variable\n",
    "    prep()                         # run the recipe on the training data provided\n",
    "\n",
    "mod = linear_reg() |> set_engine('lm')\n",
    "\n",
    "ps_mod = mod |> fit(income ~ ., juice(ps_rec))\n",
    "\n",
    "ps_mod"
   ]
  },
  {
   "cell_type": "code",
   "execution_count": 28,
   "id": "5f00c972-f677-4315-8ef8-a85c6e18be95",
   "metadata": {
    "vscode": {
     "languageId": "r"
    }
   },
   "outputs": [
    {
     "data": {
      "text/plain": [
       "parsnip model object\n",
       "\n",
       "\n",
       "Call:\n",
       "stats::lm(formula = income ~ ., data = data)\n",
       "\n",
       "Coefficients:\n",
       "         (Intercept)                    hs  urbanizationlow_x_hs  \n",
       "              -95647                  1777                   324  \n",
       "    urbanization_low  \n",
       "              -35394  \n"
      ]
     },
     "metadata": {},
     "output_type": "display_data"
    }
   ],
   "source": [
    "# non-parallel slopes model\n",
    "\n",
    "# ❗️ you can use most of the code above, just add step_interact(~ starts_with(\"urbanization\"):hs) to the recipe and\n",
    "#    switch the variable names...\n",
    "\n",
    "nps_rec = recipe(income ~ hs + urbanization, data = hate_crimes) |> \n",
    "    step_interact(~ starts_with(\"urbanization\"):hs) |> # adds an interactino variable \n",
    "    step_naomit(everything()) |>   # remove missing values\n",
    "    step_dummy(urbanization) |>    # dummy encode the urbanization variable\n",
    "    prep()                         # run the recipe on the training data provided\n",
    "\n",
    "nps_mod = linear_reg() |> set_engine('lm')\n",
    "\n",
    "nps_mod = nps_mod |> fit(income ~ ., juice(nps_rec))\n",
    "\n",
    "nps_mod\n",
    "\n"
   ]
  },
  {
   "cell_type": "markdown",
   "id": "868f615c-c5b3-4246-8460-1cd85c06c43a",
   "metadata": {},
   "source": [
    "The following code creates a table of your model predictions over the training data. Calculate the [coefficient of determination](https://en.wikipedia.org/wiki/Coefficient_of_determination) (R<sup>2</sup>) for each model:\n",
    "\n",
    "```r\n",
    "rbind(\n",
    "    augment(ps_mod, juice(ps_rec)) |> select(income, .pred, .resid) |> mutate(model = \"parallel_slopes\"),\n",
    "    augment(nps_mod, juice(nps_rec)) |> select(income, .pred, .resid) |> mutate(model = \"interaction\")\n",
    ")\n",
    "```\n",
    "\n",
    "1. Group rows by the `model` variable (use the `group_by` function).\n",
    "1. Calculate the variance of income over the variance of your predictions for each model using the \"grouped\" data from the step above (use `summarize(r_squared = var(.pred) / var(income))`)."
   ]
  },
  {
   "cell_type": "code",
   "execution_count": 29,
   "id": "962ac82c-48a1-424e-90a7-f6fdc71d52fb",
   "metadata": {
    "vscode": {
     "languageId": "r"
    }
   },
   "outputs": [
    {
     "data": {
      "text/html": [
       "<table class=\"dataframe\">\n",
       "<caption>A tibble: 2 × 2</caption>\n",
       "<thead>\n",
       "\t<tr><th scope=col>model</th><th scope=col>r_squared</th></tr>\n",
       "\t<tr><th scope=col>&lt;chr&gt;</th><th scope=col>&lt;dbl&gt;</th></tr>\n",
       "</thead>\n",
       "<tbody>\n",
       "\t<tr><td>interaction    </td><td>0.5746731</td></tr>\n",
       "\t<tr><td>parallel_slopes</td><td>0.5716112</td></tr>\n",
       "</tbody>\n",
       "</table>\n"
      ],
      "text/latex": [
       "A tibble: 2 × 2\n",
       "\\begin{tabular}{ll}\n",
       " model & r\\_squared\\\\\n",
       " <chr> & <dbl>\\\\\n",
       "\\hline\n",
       "\t interaction     & 0.5746731\\\\\n",
       "\t parallel\\_slopes & 0.5716112\\\\\n",
       "\\end{tabular}\n"
      ],
      "text/markdown": [
       "\n",
       "A tibble: 2 × 2\n",
       "\n",
       "| model &lt;chr&gt; | r_squared &lt;dbl&gt; |\n",
       "|---|---|\n",
       "| interaction     | 0.5746731 |\n",
       "| parallel_slopes | 0.5716112 |\n",
       "\n"
      ],
      "text/plain": [
       "  model           r_squared\n",
       "1 interaction     0.5746731\n",
       "2 parallel_slopes 0.5716112"
      ]
     },
     "metadata": {},
     "output_type": "display_data"
    }
   ],
   "source": [
    "\n",
    "rbind(\n",
    "    augment(ps_mod, juice(ps_rec)) |> select(income, .pred, .resid) |> mutate(model = \"parallel_slopes\"),\n",
    "    augment(nps_mod, juice(nps_rec)) |> select(income, .pred, .resid) |> mutate(model = \"interaction\")\n",
    ") |>\n",
    "    group_by(model) |>\n",
    "    summarize(r_squared = var(.pred) / var(income))\n"
   ]
  },
  {
   "cell_type": "markdown",
   "id": "840b7b72-84b9-4577-ac88-13a82f90f808",
   "metadata": {},
   "source": [
    "🎶 Note: you can also use the `glance` function with a model as input to find the coefficient of determination."
   ]
  },
  {
   "cell_type": "code",
   "execution_count": 30,
   "id": "68c3db16-e926-46d6-8647-4277560d2e25",
   "metadata": {
    "vscode": {
     "languageId": "r"
    }
   },
   "outputs": [
    {
     "data": {
      "text/html": [
       "<table class=\"dataframe\">\n",
       "<caption>A tibble: 1 × 12</caption>\n",
       "<thead>\n",
       "\t<tr><th scope=col>r.squared</th><th scope=col>adj.r.squared</th><th scope=col>sigma</th><th scope=col>statistic</th><th scope=col>p.value</th><th scope=col>df</th><th scope=col>logLik</th><th scope=col>AIC</th><th scope=col>BIC</th><th scope=col>deviance</th><th scope=col>df.residual</th><th scope=col>nobs</th></tr>\n",
       "\t<tr><th scope=col>&lt;dbl&gt;</th><th scope=col>&lt;dbl&gt;</th><th scope=col>&lt;dbl&gt;</th><th scope=col>&lt;dbl&gt;</th><th scope=col>&lt;dbl&gt;</th><th scope=col>&lt;dbl&gt;</th><th scope=col>&lt;dbl&gt;</th><th scope=col>&lt;dbl&gt;</th><th scope=col>&lt;dbl&gt;</th><th scope=col>&lt;dbl&gt;</th><th scope=col>&lt;int&gt;</th><th scope=col>&lt;int&gt;</th></tr>\n",
       "</thead>\n",
       "<tbody>\n",
       "\t<tr><td>0.5716112</td><td>0.5525717</td><td>6325.667</td><td>30.02238</td><td>5.204241e-09</td><td>2</td><td>-486.6739</td><td>981.3479</td><td>988.8327</td><td>1800633086</td><td>45</td><td>48</td></tr>\n",
       "</tbody>\n",
       "</table>\n"
      ],
      "text/latex": [
       "A tibble: 1 × 12\n",
       "\\begin{tabular}{llllllllllll}\n",
       " r.squared & adj.r.squared & sigma & statistic & p.value & df & logLik & AIC & BIC & deviance & df.residual & nobs\\\\\n",
       " <dbl> & <dbl> & <dbl> & <dbl> & <dbl> & <dbl> & <dbl> & <dbl> & <dbl> & <dbl> & <int> & <int>\\\\\n",
       "\\hline\n",
       "\t 0.5716112 & 0.5525717 & 6325.667 & 30.02238 & 5.204241e-09 & 2 & -486.6739 & 981.3479 & 988.8327 & 1800633086 & 45 & 48\\\\\n",
       "\\end{tabular}\n"
      ],
      "text/markdown": [
       "\n",
       "A tibble: 1 × 12\n",
       "\n",
       "| r.squared &lt;dbl&gt; | adj.r.squared &lt;dbl&gt; | sigma &lt;dbl&gt; | statistic &lt;dbl&gt; | p.value &lt;dbl&gt; | df &lt;dbl&gt; | logLik &lt;dbl&gt; | AIC &lt;dbl&gt; | BIC &lt;dbl&gt; | deviance &lt;dbl&gt; | df.residual &lt;int&gt; | nobs &lt;int&gt; |\n",
       "|---|---|---|---|---|---|---|---|---|---|---|---|\n",
       "| 0.5716112 | 0.5525717 | 6325.667 | 30.02238 | 5.204241e-09 | 2 | -486.6739 | 981.3479 | 988.8327 | 1800633086 | 45 | 48 |\n",
       "\n"
      ],
      "text/plain": [
       "      r.squared adj.r.squared sigma    statistic p.value      df logLik   \n",
       "value 0.5716112 0.5525717     6325.667 30.02238  5.204241e-09 2  -486.6739\n",
       "      AIC      BIC      deviance   df.residual nobs\n",
       "value 981.3479 988.8327 1800633086 45          48  "
      ]
     },
     "metadata": {},
     "output_type": "display_data"
    },
    {
     "data": {
      "text/html": [
       "<table class=\"dataframe\">\n",
       "<caption>A tibble: 1 × 12</caption>\n",
       "<thead>\n",
       "\t<tr><th scope=col>r.squared</th><th scope=col>adj.r.squared</th><th scope=col>sigma</th><th scope=col>statistic</th><th scope=col>p.value</th><th scope=col>df</th><th scope=col>logLik</th><th scope=col>AIC</th><th scope=col>BIC</th><th scope=col>deviance</th><th scope=col>df.residual</th><th scope=col>nobs</th></tr>\n",
       "\t<tr><th scope=col>&lt;dbl&gt;</th><th scope=col>&lt;dbl&gt;</th><th scope=col>&lt;dbl&gt;</th><th scope=col>&lt;dbl&gt;</th><th scope=col>&lt;dbl&gt;</th><th scope=col>&lt;dbl&gt;</th><th scope=col>&lt;dbl&gt;</th><th scope=col>&lt;dbl&gt;</th><th scope=col>&lt;dbl&gt;</th><th scope=col>&lt;dbl&gt;</th><th scope=col>&lt;int&gt;</th><th scope=col>&lt;int&gt;</th></tr>\n",
       "</thead>\n",
       "<tbody>\n",
       "\t<tr><td>0.5746731</td><td>0.5456735</td><td>6374.244</td><td>19.81661</td><td>2.814509e-08</td><td>3</td><td>-486.5018</td><td>983.0035</td><td>992.3595</td><td>1787763166</td><td>44</td><td>48</td></tr>\n",
       "</tbody>\n",
       "</table>\n"
      ],
      "text/latex": [
       "A tibble: 1 × 12\n",
       "\\begin{tabular}{llllllllllll}\n",
       " r.squared & adj.r.squared & sigma & statistic & p.value & df & logLik & AIC & BIC & deviance & df.residual & nobs\\\\\n",
       " <dbl> & <dbl> & <dbl> & <dbl> & <dbl> & <dbl> & <dbl> & <dbl> & <dbl> & <dbl> & <int> & <int>\\\\\n",
       "\\hline\n",
       "\t 0.5746731 & 0.5456735 & 6374.244 & 19.81661 & 2.814509e-08 & 3 & -486.5018 & 983.0035 & 992.3595 & 1787763166 & 44 & 48\\\\\n",
       "\\end{tabular}\n"
      ],
      "text/markdown": [
       "\n",
       "A tibble: 1 × 12\n",
       "\n",
       "| r.squared &lt;dbl&gt; | adj.r.squared &lt;dbl&gt; | sigma &lt;dbl&gt; | statistic &lt;dbl&gt; | p.value &lt;dbl&gt; | df &lt;dbl&gt; | logLik &lt;dbl&gt; | AIC &lt;dbl&gt; | BIC &lt;dbl&gt; | deviance &lt;dbl&gt; | df.residual &lt;int&gt; | nobs &lt;int&gt; |\n",
       "|---|---|---|---|---|---|---|---|---|---|---|---|\n",
       "| 0.5746731 | 0.5456735 | 6374.244 | 19.81661 | 2.814509e-08 | 3 | -486.5018 | 983.0035 | 992.3595 | 1787763166 | 44 | 48 |\n",
       "\n"
      ],
      "text/plain": [
       "      r.squared adj.r.squared sigma    statistic p.value      df logLik   \n",
       "value 0.5746731 0.5456735     6374.244 19.81661  2.814509e-08 3  -486.5018\n",
       "      AIC      BIC      deviance   df.residual nobs\n",
       "value 983.0035 992.3595 1787763166 44          48  "
      ]
     },
     "metadata": {},
     "output_type": "display_data"
    }
   ],
   "source": [
    "glance(ps_mod)\n",
    "glance(nps_mod)"
   ]
  },
  {
   "cell_type": "markdown",
   "id": "ba34c756-4110-41a5-889c-102a51920a41",
   "metadata": {},
   "source": [
    "❓Compare the adjusted proportion of variance accounted for in each model. Based on this comparison, which model do you prefer? Why? \n",
    "\n",
    "**Answer:**"
   ]
  },
  {
   "cell_type": "code",
   "execution_count": null,
   "id": "a249f3ee-3f67-4cfe-858c-ae5d3134035f",
   "metadata": {
    "vscode": {
     "languageId": "r"
    }
   },
   "outputs": [],
   "source": [
    "# I prefer the interaction model because its coefficient of determination is so slightly higher than the parallel model, \n",
    "# and thus, the model is slightly more accurate.\n",
    "\n"
   ]
  },
  {
   "cell_type": "markdown",
   "id": "3b8b4c84-898f-4914-b06b-2eeb99f0d234",
   "metadata": {},
   "source": [
    "❓Using your preferred model, based on your regression model parameters (and the data visualizations), is `income` greater in states that have lower or higher levels of `urbanization`? By how much?\n",
    "\n",
    "**Hint:** use the `tidy` function with your model as input to access the parameters in a nice table.\n",
    "\n",
    "**Answer:**"
   ]
  },
  {
   "cell_type": "code",
   "execution_count": null,
   "id": "c094d0a2-2030-45a8-9643-9c6eac642fb3",
   "metadata": {
    "vscode": {
     "languageId": "r"
    }
   },
   "outputs": [
    {
     "data": {
      "text/html": [
       "<table class=\"dataframe\">\n",
       "<caption>A tibble: 4 × 5</caption>\n",
       "<thead>\n",
       "\t<tr><th scope=col>term</th><th scope=col>estimate</th><th scope=col>std.error</th><th scope=col>statistic</th><th scope=col>p.value</th></tr>\n",
       "\t<tr><th scope=col>&lt;chr&gt;</th><th scope=col>&lt;dbl&gt;</th><th scope=col>&lt;dbl&gt;</th><th scope=col>&lt;dbl&gt;</th><th scope=col>&lt;dbl&gt;</th></tr>\n",
       "</thead>\n",
       "<tbody>\n",
       "\t<tr><td>(Intercept)         </td><td>-95647.4274</td><td>39937.8800</td><td>-2.3949050</td><td>0.0209485906</td></tr>\n",
       "\t<tr><td>hs                  </td><td>  1776.9938</td><td>  463.2497</td><td> 3.8359312</td><td>0.0003953977</td></tr>\n",
       "\t<tr><td>urbanizationlow_x_hs</td><td>   323.9987</td><td>  575.6838</td><td> 0.5628067</td><td>0.5764231616</td></tr>\n",
       "\t<tr><td>urbanization_low    </td><td>-35393.9651</td><td>49893.5228</td><td>-0.7093900</td><td>0.4818248864</td></tr>\n",
       "</tbody>\n",
       "</table>\n"
      ],
      "text/latex": [
       "A tibble: 4 × 5\n",
       "\\begin{tabular}{lllll}\n",
       " term & estimate & std.error & statistic & p.value\\\\\n",
       " <chr> & <dbl> & <dbl> & <dbl> & <dbl>\\\\\n",
       "\\hline\n",
       "\t (Intercept)          & -95647.4274 & 39937.8800 & -2.3949050 & 0.0209485906\\\\\n",
       "\t hs                   &   1776.9938 &   463.2497 &  3.8359312 & 0.0003953977\\\\\n",
       "\t urbanizationlow\\_x\\_hs &    323.9987 &   575.6838 &  0.5628067 & 0.5764231616\\\\\n",
       "\t urbanization\\_low     & -35393.9651 & 49893.5228 & -0.7093900 & 0.4818248864\\\\\n",
       "\\end{tabular}\n"
      ],
      "text/markdown": [
       "\n",
       "A tibble: 4 × 5\n",
       "\n",
       "| term &lt;chr&gt; | estimate &lt;dbl&gt; | std.error &lt;dbl&gt; | statistic &lt;dbl&gt; | p.value &lt;dbl&gt; |\n",
       "|---|---|---|---|---|\n",
       "| (Intercept)          | -95647.4274 | 39937.8800 | -2.3949050 | 0.0209485906 |\n",
       "| hs                   |   1776.9938 |   463.2497 |  3.8359312 | 0.0003953977 |\n",
       "| urbanizationlow_x_hs |    323.9987 |   575.6838 |  0.5628067 | 0.5764231616 |\n",
       "| urbanization_low     | -35393.9651 | 49893.5228 | -0.7093900 | 0.4818248864 |\n",
       "\n"
      ],
      "text/plain": [
       "  term                 estimate    std.error  statistic  p.value     \n",
       "1 (Intercept)          -95647.4274 39937.8800 -2.3949050 0.0209485906\n",
       "2 hs                     1776.9938   463.2497  3.8359312 0.0003953977\n",
       "3 urbanizationlow_x_hs    323.9987   575.6838  0.5628067 0.5764231616\n",
       "4 urbanization_low     -35393.9651 49893.5228 -0.7093900 0.4818248864"
      ]
     },
     "metadata": {},
     "output_type": "display_data"
    }
   ],
   "source": [
    "tidy(nps_mod)\n",
    "\n",
    "# Income is greater in states with higher urbanization. The intercept from the Tidy output represents having high urbanization. In turn,\n",
    "# the urbanization_low term represent low urbanization. Since, that term is negative, it means income decreases when urbanizations is low\n",
    "# from the base of high urbanization"
   ]
  },
  {
   "cell_type": "markdown",
   "id": "bf4c7cba-28b1-41e4-800b-275d0895ceff",
   "metadata": {},
   "source": [
    "❓For every one percentage point increase of high-school educated adults in a state (`hs` variable), what is the associated average increase in `income`?\n",
    "\n",
    "**Answer:**"
   ]
  },
  {
   "cell_type": "code",
   "execution_count": null,
   "id": "1f5e5a71-930e-477d-98b8-a3f5e47df91c",
   "metadata": {
    "vscode": {
     "languageId": "r"
    }
   },
   "outputs": [],
   "source": [
    "\n",
    "# The associated increase is represented by the estimate column here. So, every 1 increase in percentage of high-school educated\n",
    "# adults causes a estimated income increase of 1776.99 dollars.\n"
   ]
  }
 ],
 "metadata": {
  "kernelspec": {
   "display_name": "R",
   "language": "R",
   "name": "ir"
  },
  "language_info": {
   "codemirror_mode": "r",
   "file_extension": ".r",
   "mimetype": "text/x-r-source",
   "name": "R",
   "pygments_lexer": "r",
   "version": "4.3.3"
  }
 },
 "nbformat": 4,
 "nbformat_minor": 5
}
